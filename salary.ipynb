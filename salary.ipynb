{
 "cells": [
  {
   "cell_type": "markdown",
   "metadata": {},
   "source": [
    "# Salary Analysis & Predictions Based on Job Descriptions\n",
    "\n",
    "## Using 4D framework\n",
    "***"
   ]
  },
  {
   "cell_type": "markdown",
   "metadata": {},
   "source": [
    "# Objectives\n",
    "\n",
    "- To understand how salary is influenced by years of experience, location away from city, major, industry, and type of position to understand how: \n",
    "\n",
    "    - Candidates can strategically target the company they want to work for to achieve their desired salary.\n",
    "    \n",
    "    - Companies can allocate budget for new hires based on these factors and adjust qualifications accordingly.\n",
    "    \n",
    "\n",
    "- To create a model that predicts the salary of a new hire based on job descriptions. \n",
    "\n",
    "The implementation of this model will allow management to allocate budget for new hires to avoid underpaying or overpaying them.\n",
    "\n",
    "***"
   ]
  },
  {
   "cell_type": "markdown",
   "metadata": {},
   "source": [
    "# Table of Contents\n",
    "\n",
    "### Part 1 - DEFINE\n",
    "#### 1. Define the problem\n",
    "- Why is over spending on new hires a problem?\n",
    "\n",
    "### Part 2 - DISCOVER\n",
    "#### 2. Load the data\n",
    "#### 3. Clean the data\n",
    "- Inspection of data: Missing values, data types, duplicates, summary statistics\n",
    "\n",
    "#### 4. Explore the data (EDA)\n",
    "- Correlation of numeric features\n",
    "- Distribution of numeric feature\n",
    "- Plots of numeric features against salary\n",
    "- Boxplots of categorical features and salary\n",
    "- Heatmaps of categorical features in relation to salary\n",
    "\n",
    "#### 5. Establish a baseline\n",
    "- Calculating MSE using average salary for each job type as the predicted value\n",
    "\n",
    "#### 6. Hypothesize solutions\n",
    "- How EDA informs model and feature engineering\n",
    "\n",
    "### Part 3 - DEVELOP\n",
    "#### 7. Engineer features\n",
    "- One-hot encoding of categorical features\n",
    "- Splitting data into training and testing sets\n",
    "\n",
    "#### 8. Create & test models\n",
    "- Linear Regression\n",
    "- Random Forest\n",
    "- Gradient Boosting\n",
    "\n",
    "#### 9. Select best model\n",
    "- Based on lowest MSE\n",
    "\n",
    "### Part 4 - DEPLOY\n",
    "#### 10. Automate pipeline\n",
    "- Engineer features, train, and test model on unknown data\n",
    "\n",
    "#### 11. Deploy solution\n",
    "- Saving predictions as csv and reaching out to finance team\n",
    "\n",
    "### Part 5 - Actionable recommendations\n",
    "- Budget allocation based on company and job requirements\n",
    "***"
   ]
  },
  {
   "cell_type": "markdown",
   "metadata": {},
   "source": [
    "# Part 1 - DEFINE"
   ]
  },
  {
   "cell_type": "markdown",
   "metadata": {},
   "source": [
    "<a id='problem'></a>\n",
    "### 1. Define the problem"
   ]
  },
  {
   "cell_type": "markdown",
   "metadata": {},
   "source": [
    "Companies often face a problem of **over spending** on new hires, whereby they spend more money than they have to hire new people. Over spending would negatively impact the financial health of the company and result in decreased profit, debts, and even bankcruptcy if uncontrolled. \n",
    "\n",
    "Imagine that a company spends **500,000 dollars** on new hires annually when it has **200,000 dollars**. The company incurs a deficit of **300,000 dollars**. The company can avoid over spending by knowing how much new hires are going to cost, and compare the cost with what they have, to determine who and how many people they can hire.\n",
    "\n"
   ]
  },
  {
   "cell_type": "markdown",
   "metadata": {},
   "source": [
    "#### An example"
   ]
  },
  {
   "cell_type": "markdown",
   "metadata": {},
   "source": [
    "For example, a company wants to hire 2 Software Engineers and a Director of Data Science. An entry-level Software Engineer will cost about 125,000 dollars and a Director of Data Science with 10+ years of experience will cost about 250,000 dollars. The company will need to allocate **500,000 dollars.** \n",
    "\n",
    "If the company only has **200,000 dollars**, then it could only afford to hire an entry-level Software Engineer or an Associate Director of Data Science that is within budget. "
   ]
  },
  {
   "cell_type": "code",
   "execution_count": 1,
   "metadata": {},
   "outputs": [],
   "source": [
    "# Importing libraries\n",
    "import pandas as pd\n",
    "import matplotlib.pyplot as plt\n",
    "import numpy as np\n",
    "import seaborn as sns\n",
    "from sklearn.model_selection import train_test_split\n",
    "from sklearn.linear_model import LinearRegression\n",
    "from sklearn.preprocessing import PolynomialFeatures\n",
    "from sklearn.ensemble import RandomForestRegressor, GradientBoostingRegressor\n",
    "from sklearn.model_selection import cross_val_score, GridSearchCV\n",
    "%matplotlib inline\n",
    "\n",
    "__author__ = \"Janice Tjeng\"\n",
    "__email__ = \"janicetjeng@gmail.com\""
   ]
  },
  {
   "cell_type": "markdown",
   "metadata": {},
   "source": [
    "***\n",
    "## Part 2 - DISCOVER"
   ]
  },
  {
   "cell_type": "markdown",
   "metadata": {},
   "source": [
    "### 2. Load the data"
   ]
  },
  {
   "cell_type": "code",
   "execution_count": 2,
   "metadata": {},
   "outputs": [],
   "source": [
    "# Importing the data\n",
    "salary_features = pd.read_csv(\"./data/train_features.csv\")\n",
    "salary = pd.read_csv(\"./data/train_salaries.csv\")"
   ]
  },
  {
   "cell_type": "code",
   "execution_count": 3,
   "metadata": {},
   "outputs": [
    {
     "data": {
      "text/plain": [
       "(1000000, 8)"
      ]
     },
     "execution_count": 3,
     "metadata": {},
     "output_type": "execute_result"
    }
   ],
   "source": [
    "salary_features.shape"
   ]
  },
  {
   "cell_type": "code",
   "execution_count": 4,
   "metadata": {},
   "outputs": [
    {
     "data": {
      "text/plain": [
       "(1000000, 2)"
      ]
     },
     "execution_count": 4,
     "metadata": {},
     "output_type": "execute_result"
    }
   ],
   "source": [
    "salary.shape"
   ]
  },
  {
   "cell_type": "markdown",
   "metadata": {},
   "source": [
    "The number of rows in the features and target data sets match, so they will be combined for further sanity checks and analysis"
   ]
  },
  {
   "cell_type": "code",
   "execution_count": 5,
   "metadata": {},
   "outputs": [],
   "source": [
    "# Combine both data sets\n",
    "salary_combined = salary_features.join(salary.set_index(\"jobId\"),how=\"inner\",on=\"jobId\")"
   ]
  },
  {
   "cell_type": "markdown",
   "metadata": {},
   "source": [
    "<a id='datacleaning'></a>\n",
    "### 3. Clean the data"
   ]
  },
  {
   "cell_type": "code",
   "execution_count": 6,
   "metadata": {},
   "outputs": [
    {
     "data": {
      "text/plain": [
       "jobId                  False\n",
       "companyId              False\n",
       "jobType                False\n",
       "degree                 False\n",
       "major                  False\n",
       "industry               False\n",
       "yearsExperience        False\n",
       "milesFromMetropolis    False\n",
       "salary                 False\n",
       "dtype: bool"
      ]
     },
     "execution_count": 6,
     "metadata": {},
     "output_type": "execute_result"
    }
   ],
   "source": [
    "# Look for missing values\n",
    "salary_combined.isnull().any()"
   ]
  },
  {
   "cell_type": "code",
   "execution_count": 7,
   "metadata": {},
   "outputs": [
    {
     "name": "stdout",
     "output_type": "stream",
     "text": [
      "<class 'pandas.core.frame.DataFrame'>\n",
      "Int64Index: 1000000 entries, 0 to 999999\n",
      "Data columns (total 9 columns):\n",
      " #   Column               Non-Null Count    Dtype \n",
      "---  ------               --------------    ----- \n",
      " 0   jobId                1000000 non-null  object\n",
      " 1   companyId            1000000 non-null  object\n",
      " 2   jobType              1000000 non-null  object\n",
      " 3   degree               1000000 non-null  object\n",
      " 4   major                1000000 non-null  object\n",
      " 5   industry             1000000 non-null  object\n",
      " 6   yearsExperience      1000000 non-null  int64 \n",
      " 7   milesFromMetropolis  1000000 non-null  int64 \n",
      " 8   salary               1000000 non-null  int64 \n",
      "dtypes: int64(3), object(6)\n",
      "memory usage: 76.3+ MB\n"
     ]
    }
   ],
   "source": [
    "# Check that type of features are consistent with they should be\n",
    "salary_combined.info()"
   ]
  },
  {
   "cell_type": "code",
   "execution_count": 8,
   "metadata": {},
   "outputs": [
    {
     "name": "stdout",
     "output_type": "stream",
     "text": [
      "Number of duplicated records in training set:  0\n"
     ]
    }
   ],
   "source": [
    "# Look for duplicate values\n",
    "print(\"Number of duplicated records in training set: \", salary_combined.duplicated().sum())"
   ]
  },
  {
   "cell_type": "code",
   "execution_count": 9,
   "metadata": {},
   "outputs": [
    {
     "data": {
      "text/html": [
       "<div>\n",
       "<style scoped>\n",
       "    .dataframe tbody tr th:only-of-type {\n",
       "        vertical-align: middle;\n",
       "    }\n",
       "\n",
       "    .dataframe tbody tr th {\n",
       "        vertical-align: top;\n",
       "    }\n",
       "\n",
       "    .dataframe thead th {\n",
       "        text-align: right;\n",
       "    }\n",
       "</style>\n",
       "<table border=\"1\" class=\"dataframe\">\n",
       "  <thead>\n",
       "    <tr style=\"text-align: right;\">\n",
       "      <th></th>\n",
       "      <th>yearsExperience</th>\n",
       "      <th>milesFromMetropolis</th>\n",
       "      <th>salary</th>\n",
       "    </tr>\n",
       "  </thead>\n",
       "  <tbody>\n",
       "    <tr>\n",
       "      <th>count</th>\n",
       "      <td>1000000.000000</td>\n",
       "      <td>1000000.000000</td>\n",
       "      <td>1000000.000000</td>\n",
       "    </tr>\n",
       "    <tr>\n",
       "      <th>mean</th>\n",
       "      <td>11.992386</td>\n",
       "      <td>49.529260</td>\n",
       "      <td>116.061818</td>\n",
       "    </tr>\n",
       "    <tr>\n",
       "      <th>std</th>\n",
       "      <td>7.212391</td>\n",
       "      <td>28.877733</td>\n",
       "      <td>38.717936</td>\n",
       "    </tr>\n",
       "    <tr>\n",
       "      <th>min</th>\n",
       "      <td>0.000000</td>\n",
       "      <td>0.000000</td>\n",
       "      <td>0.000000</td>\n",
       "    </tr>\n",
       "    <tr>\n",
       "      <th>25%</th>\n",
       "      <td>6.000000</td>\n",
       "      <td>25.000000</td>\n",
       "      <td>88.000000</td>\n",
       "    </tr>\n",
       "    <tr>\n",
       "      <th>50%</th>\n",
       "      <td>12.000000</td>\n",
       "      <td>50.000000</td>\n",
       "      <td>114.000000</td>\n",
       "    </tr>\n",
       "    <tr>\n",
       "      <th>75%</th>\n",
       "      <td>18.000000</td>\n",
       "      <td>75.000000</td>\n",
       "      <td>141.000000</td>\n",
       "    </tr>\n",
       "    <tr>\n",
       "      <th>max</th>\n",
       "      <td>24.000000</td>\n",
       "      <td>99.000000</td>\n",
       "      <td>301.000000</td>\n",
       "    </tr>\n",
       "  </tbody>\n",
       "</table>\n",
       "</div>"
      ],
      "text/plain": [
       "       yearsExperience  milesFromMetropolis          salary\n",
       "count   1000000.000000       1000000.000000  1000000.000000\n",
       "mean         11.992386            49.529260      116.061818\n",
       "std           7.212391            28.877733       38.717936\n",
       "min           0.000000             0.000000        0.000000\n",
       "25%           6.000000            25.000000       88.000000\n",
       "50%          12.000000            50.000000      114.000000\n",
       "75%          18.000000            75.000000      141.000000\n",
       "max          24.000000            99.000000      301.000000"
      ]
     },
     "execution_count": 9,
     "metadata": {},
     "output_type": "execute_result"
    }
   ],
   "source": [
    "# Summarizing data with descriptive statistics to look for invalid data\n",
    "salary_combined.describe()"
   ]
  },
  {
   "cell_type": "markdown",
   "metadata": {},
   "source": [
    "Features do not appear to be highly skewed as mean and median (50th percentile) are similar. However, we will need to investigate jobs with minimum salary of 0."
   ]
  },
  {
   "cell_type": "code",
   "execution_count": 10,
   "metadata": {},
   "outputs": [
    {
     "data": {
      "text/html": [
       "<div>\n",
       "<style scoped>\n",
       "    .dataframe tbody tr th:only-of-type {\n",
       "        vertical-align: middle;\n",
       "    }\n",
       "\n",
       "    .dataframe tbody tr th {\n",
       "        vertical-align: top;\n",
       "    }\n",
       "\n",
       "    .dataframe thead th {\n",
       "        text-align: right;\n",
       "    }\n",
       "</style>\n",
       "<table border=\"1\" class=\"dataframe\">\n",
       "  <thead>\n",
       "    <tr style=\"text-align: right;\">\n",
       "      <th></th>\n",
       "      <th>jobId</th>\n",
       "      <th>companyId</th>\n",
       "      <th>jobType</th>\n",
       "      <th>degree</th>\n",
       "      <th>major</th>\n",
       "      <th>industry</th>\n",
       "      <th>yearsExperience</th>\n",
       "      <th>milesFromMetropolis</th>\n",
       "      <th>salary</th>\n",
       "    </tr>\n",
       "  </thead>\n",
       "  <tbody>\n",
       "    <tr>\n",
       "      <th>30559</th>\n",
       "      <td>JOB1362684438246</td>\n",
       "      <td>COMP44</td>\n",
       "      <td>JUNIOR</td>\n",
       "      <td>DOCTORAL</td>\n",
       "      <td>MATH</td>\n",
       "      <td>AUTO</td>\n",
       "      <td>11</td>\n",
       "      <td>7</td>\n",
       "      <td>0</td>\n",
       "    </tr>\n",
       "    <tr>\n",
       "      <th>495984</th>\n",
       "      <td>JOB1362684903671</td>\n",
       "      <td>COMP34</td>\n",
       "      <td>JUNIOR</td>\n",
       "      <td>NONE</td>\n",
       "      <td>NONE</td>\n",
       "      <td>OIL</td>\n",
       "      <td>1</td>\n",
       "      <td>25</td>\n",
       "      <td>0</td>\n",
       "    </tr>\n",
       "    <tr>\n",
       "      <th>652076</th>\n",
       "      <td>JOB1362685059763</td>\n",
       "      <td>COMP25</td>\n",
       "      <td>CTO</td>\n",
       "      <td>HIGH_SCHOOL</td>\n",
       "      <td>NONE</td>\n",
       "      <td>AUTO</td>\n",
       "      <td>6</td>\n",
       "      <td>60</td>\n",
       "      <td>0</td>\n",
       "    </tr>\n",
       "    <tr>\n",
       "      <th>816129</th>\n",
       "      <td>JOB1362685223816</td>\n",
       "      <td>COMP42</td>\n",
       "      <td>MANAGER</td>\n",
       "      <td>DOCTORAL</td>\n",
       "      <td>ENGINEERING</td>\n",
       "      <td>FINANCE</td>\n",
       "      <td>18</td>\n",
       "      <td>6</td>\n",
       "      <td>0</td>\n",
       "    </tr>\n",
       "    <tr>\n",
       "      <th>828156</th>\n",
       "      <td>JOB1362685235843</td>\n",
       "      <td>COMP40</td>\n",
       "      <td>VICE_PRESIDENT</td>\n",
       "      <td>MASTERS</td>\n",
       "      <td>ENGINEERING</td>\n",
       "      <td>WEB</td>\n",
       "      <td>3</td>\n",
       "      <td>29</td>\n",
       "      <td>0</td>\n",
       "    </tr>\n",
       "  </tbody>\n",
       "</table>\n",
       "</div>"
      ],
      "text/plain": [
       "                   jobId companyId         jobType       degree        major  \\\n",
       "30559   JOB1362684438246    COMP44          JUNIOR     DOCTORAL         MATH   \n",
       "495984  JOB1362684903671    COMP34          JUNIOR         NONE         NONE   \n",
       "652076  JOB1362685059763    COMP25             CTO  HIGH_SCHOOL         NONE   \n",
       "816129  JOB1362685223816    COMP42         MANAGER     DOCTORAL  ENGINEERING   \n",
       "828156  JOB1362685235843    COMP40  VICE_PRESIDENT      MASTERS  ENGINEERING   \n",
       "\n",
       "       industry  yearsExperience  milesFromMetropolis  salary  \n",
       "30559      AUTO               11                    7       0  \n",
       "495984      OIL                1                   25       0  \n",
       "652076     AUTO                6                   60       0  \n",
       "816129  FINANCE               18                    6       0  \n",
       "828156      WEB                3                   29       0  "
      ]
     },
     "execution_count": 10,
     "metadata": {},
     "output_type": "execute_result"
    }
   ],
   "source": [
    "# Checking for rows with salary of 0\n",
    "salary_combined[salary_combined.salary==0]"
   ]
  },
  {
   "cell_type": "markdown",
   "metadata": {},
   "source": [
    "Executive positions and doctoral degree should not have a salary of 0. It is possible that there are errors in data collection, and removing these data points would not bias our results as they constitute a small amount of observations (5 out of 1,000,000)."
   ]
  },
  {
   "cell_type": "code",
   "execution_count": 11,
   "metadata": {},
   "outputs": [],
   "source": [
    "# Removing rows with salary of 0\n",
    "salary_new = salary_combined[salary_combined.salary>0]"
   ]
  },
  {
   "cell_type": "code",
   "execution_count": 12,
   "metadata": {},
   "outputs": [
    {
     "data": {
      "text/plain": [
       "True"
      ]
     },
     "execution_count": 12,
     "metadata": {},
     "output_type": "execute_result"
    }
   ],
   "source": [
    "# Verify that data points have been removed and there should be 5 rows less than the original\n",
    "salary_new.shape[0] == salary_combined.shape[0]-5"
   ]
  },
  {
   "cell_type": "markdown",
   "metadata": {},
   "source": [
    "\n",
    "### 4. Explore the data (EDA)"
   ]
  },
  {
   "cell_type": "markdown",
   "metadata": {},
   "source": [
    "<a id='correlation_matrix'></a>\n",
    "#### Correlation matrix"
   ]
  },
  {
   "cell_type": "code",
   "execution_count": 14,
   "metadata": {},
   "outputs": [],
   "source": [
    "# Function for correlation plot\n",
    "def corr_mat(data):\n",
    "    corr = data.corr()\n",
    "    sns.heatmap(corr, \n",
    "            xticklabels=corr.columns.values,\n",
    "            yticklabels=corr.columns.values)\n",
    "    plt.title('Heatmap of Correlation Matrix')\n",
    "    return (corr)"
   ]
  },
  {
   "cell_type": "code",
   "execution_count": 15,
   "metadata": {},
   "outputs": [
    {
     "data": {
      "text/html": [
       "<div>\n",
       "<style scoped>\n",
       "    .dataframe tbody tr th:only-of-type {\n",
       "        vertical-align: middle;\n",
       "    }\n",
       "\n",
       "    .dataframe tbody tr th {\n",
       "        vertical-align: top;\n",
       "    }\n",
       "\n",
       "    .dataframe thead th {\n",
       "        text-align: right;\n",
       "    }\n",
       "</style>\n",
       "<table border=\"1\" class=\"dataframe\">\n",
       "  <thead>\n",
       "    <tr style=\"text-align: right;\">\n",
       "      <th></th>\n",
       "      <th>yearsExperience</th>\n",
       "      <th>milesFromMetropolis</th>\n",
       "      <th>salary</th>\n",
       "    </tr>\n",
       "  </thead>\n",
       "  <tbody>\n",
       "    <tr>\n",
       "      <th>yearsExperience</th>\n",
       "      <td>1.000000</td>\n",
       "      <td>0.000672</td>\n",
       "      <td>0.375013</td>\n",
       "    </tr>\n",
       "    <tr>\n",
       "      <th>milesFromMetropolis</th>\n",
       "      <td>0.000672</td>\n",
       "      <td>1.000000</td>\n",
       "      <td>-0.297686</td>\n",
       "    </tr>\n",
       "    <tr>\n",
       "      <th>salary</th>\n",
       "      <td>0.375013</td>\n",
       "      <td>-0.297686</td>\n",
       "      <td>1.000000</td>\n",
       "    </tr>\n",
       "  </tbody>\n",
       "</table>\n",
       "</div>"
      ],
      "text/plain": [
       "                     yearsExperience  milesFromMetropolis    salary\n",
       "yearsExperience             1.000000             0.000672  0.375013\n",
       "milesFromMetropolis         0.000672             1.000000 -0.297686\n",
       "salary                      0.375013            -0.297686  1.000000"
      ]
     },
     "execution_count": 15,
     "metadata": {},
     "output_type": "execute_result"
    },
    {
     "data": {
      "image/png": "[encoded data removed]",
      "text/plain": [
       "<Figure size 432x288 with 2 Axes>"
      ]
     },
     "metadata": {
      "needs_background": "light"
     },
     "output_type": "display_data"
    }
   ],
   "source": [
    "corr_mat(salary_new)"
   ]
  },
  {
   "cell_type": "markdown",
   "metadata": {},
   "source": [
    "Salary is negatively correlated with miles from metropolis, the further the jobs are away from the city, the lower the salaries. \n",
    "\n",
    "Salary is positively correlated with years of experience, as jobs require people with more experience, salaries increase. \n",
    "\n",
    "There is a weak correlation between years of experience and miles from metropolis, the number of years of experience a job requires is not determined by where its located. "
   ]
  },
  {
   "cell_type": "markdown",
   "metadata": {},
   "source": [
    "<a id='distplots'></a>\n",
    "#### Distribution plots"
   ]
  },
  {
   "cell_type": "code",
   "execution_count": 16,
   "metadata": {},
   "outputs": [],
   "source": [
    "# Function to visualize distribution of numerical features\n",
    "def plot_num(data,size):\n",
    "    num_vars = data.select_dtypes(exclude=[\"object\"]).columns\n",
    "    plt.figure(figsize=size)\n",
    "    for i in range(len(num_vars)):\n",
    "        plt.subplot(3,3,i+1)\n",
    "        sns.distplot(salary_new[num_vars[i]])"
   ]
  },
  {
   "cell_type": "code",
   "execution_count": 17,
   "metadata": {},
   "outputs": [
    {
     "data": {
      "image/png": "[encoded data removed]",
      "text/plain": [
       "<Figure size 1152x1296 with 3 Axes>"
      ]
     },
     "metadata": {
      "needs_background": "light"
     },
     "output_type": "display_data"
    }
   ],
   "source": [
    "plot_num(salary_new,(16,18))"
   ]
  },
  {
   "cell_type": "markdown",
   "metadata": {},
   "source": [
    "Salary follows a close to normal distribution, implying that a most of the jobs pay close to the average salary, with equally few jobs that are extremely low and high paying. On the other hand, years of experience and miles from metropolis have a uniform distribution, implying that there is an equal number of jobs with varying years of experience and miles away from city."
   ]
  },
  {
   "cell_type": "markdown",
   "metadata": {},
   "source": [
    "<a id='numplots'></a>\n",
    "\n",
    "#### Plots of numeric features against target\n",
    "\n",
    "*Years of experience and salary*"
   ]
  },
  {
   "cell_type": "code",
   "execution_count": 18,
   "metadata": {},
   "outputs": [],
   "source": [
    "# Function for line plot with range between mean and std shown\n",
    "def line_plot(dat,ind,dep):\n",
    "    mean = salary_new.groupby(ind)[dep].mean()\n",
    "    std = salary_new.groupby(ind)[dep].std()\n",
    "    mean.plot()\n",
    "    plt.fill_between(range(len(std.index)), mean.values-std.values, mean.values + std.values, alpha = 0.1)"
   ]
  },
  {
   "cell_type": "code",
   "execution_count": 19,
   "metadata": {},
   "outputs": [
    {
     "data": {
      "image/png": "[encoded data removed]",
      "text/plain": [
       "<Figure size 432x288 with 1 Axes>"
      ]
     },
     "metadata": {
      "needs_background": "light"
     },
     "output_type": "display_data"
    }
   ],
   "source": [
    "line_plot(salary_new,\"yearsExperience\",\"salary\")"
   ]
  },
  {
   "cell_type": "markdown",
   "metadata": {},
   "source": [
    "We can see that salary increases with more years of experience."
   ]
  },
  {
   "cell_type": "markdown",
   "metadata": {},
   "source": [
    "*Miles from metropolis and salary*"
   ]
  },
  {
   "cell_type": "code",
   "execution_count": 20,
   "metadata": {},
   "outputs": [
    {
     "data": {
      "image/png": "[encoded data removed]",
      "text/plain": [
       "<Figure size 432x288 with 1 Axes>"
      ]
     },
     "metadata": {
      "needs_background": "light"
     },
     "output_type": "display_data"
    }
   ],
   "source": [
    "line_plot(salary_new,\"milesFromMetropolis\",\"salary\")"
   ]
  },
  {
   "cell_type": "markdown",
   "metadata": {},
   "source": [
    "We can see that salary decreases with increasing miles away from city."
   ]
  },
  {
   "cell_type": "markdown",
   "metadata": {},
   "source": [
    "<a id='boxplots'></a>\n",
    "**Box plots**\n",
    "\n",
    "We will create boxplots to visualize categorical features: jobtypes, industry, major, and degree, in relationship with salary\n"
   ]
  },
  {
   "cell_type": "code",
   "execution_count": 21,
   "metadata": {},
   "outputs": [],
   "source": [
    "def box_plot(size,categorical_var,dep,dat):\n",
    "    plt.figure(figsize=size)\n",
    "    plt.suptitle(\"Green triangle represents mean\",fontsize=16)\n",
    "    for i in range(len(categorical_var)):\n",
    "        mean = dat.groupby(categorical_var[i])[dep].mean()\n",
    "        ordr = mean.sort_values().index.tolist()\n",
    "        dat[categorical_var[i]] = dat[categorical_var[i]].astype(\"category\")\n",
    "        dat[categorical_var[i]].cat.reorder_categories(ordr, inplace=True)\n",
    "        plt.subplot(2,2,i+1)\n",
    "        sns.boxplot(x=categorical_var[i],y=dep, data=dat, showmeans=True)\n",
    "        plt.xticks(rotation=45)\n",
    "    "
   ]
  },
  {
   "cell_type": "code",
   "execution_count": 22,
   "metadata": {},
   "outputs": [
    {
     "name": "stderr",
     "output_type": "stream",
     "text": [
      "C:\\Users\\HR\\Anaconda3\\lib\\site-packages\\ipykernel_launcher.py:7: SettingWithCopyWarning: \n",
      "A value is trying to be set on a copy of a slice from a DataFrame.\n",
      "Try using .loc[row_indexer,col_indexer] = value instead\n",
      "\n",
      "See the caveats in the documentation: https://pandas.pydata.org/pandas-docs/stable/user_guide/indexing.html#returning-a-view-versus-a-copy\n",
      "  import sys\n",
      "C:\\Users\\HR\\Anaconda3\\lib\\site-packages\\ipykernel_launcher.py:7: SettingWithCopyWarning: \n",
      "A value is trying to be set on a copy of a slice from a DataFrame.\n",
      "Try using .loc[row_indexer,col_indexer] = value instead\n",
      "\n",
      "See the caveats in the documentation: https://pandas.pydata.org/pandas-docs/stable/user_guide/indexing.html#returning-a-view-versus-a-copy\n",
      "  import sys\n",
      "C:\\Users\\HR\\Anaconda3\\lib\\site-packages\\ipykernel_launcher.py:7: SettingWithCopyWarning: \n",
      "A value is trying to be set on a copy of a slice from a DataFrame.\n",
      "Try using .loc[row_indexer,col_indexer] = value instead\n",
      "\n",
      "See the caveats in the documentation: https://pandas.pydata.org/pandas-docs/stable/user_guide/indexing.html#returning-a-view-versus-a-copy\n",
      "  import sys\n",
      "C:\\Users\\HR\\Anaconda3\\lib\\site-packages\\ipykernel_launcher.py:7: SettingWithCopyWarning: \n",
      "A value is trying to be set on a copy of a slice from a DataFrame.\n",
      "Try using .loc[row_indexer,col_indexer] = value instead\n",
      "\n",
      "See the caveats in the documentation: https://pandas.pydata.org/pandas-docs/stable/user_guide/indexing.html#returning-a-view-versus-a-copy\n",
      "  import sys\n"
     ]
    },
    {
     "data": {
      "image/png": "[encoded data removed]",
      "text/plain": [
       "<Figure size 1008x1296 with 4 Axes>"
      ]
     },
     "metadata": {
      "needs_background": "light"
     },
     "output_type": "display_data"
    }
   ],
   "source": [
    "box_plot((14,18),[\"jobType\",\"degree\",\"major\",\"industry\"],\"salary\",salary_new)"
   ]
  },
  {
   "cell_type": "markdown",
   "metadata": {},
   "source": [
    "*Job type and average salary*\n",
    "\n",
    "Executive positions (CFO, CTO, CEO) have the highest average salaries while janitor has the lowest average salary. Senior and manager positions do not have huge difference in average salaries.\n",
    "\n",
    "*Degree and average salary*\n",
    "\n",
    "There is not much difference in average salaries between jobs that do not require a degree and those that require a high school degree. Jobs with bachelor's degree requirements have slightly lower average salaries than those with master's and doctoral degree requirements, while the latter have similar average salaries.\n",
    "\n",
    "*Major and average salary*\n",
    "\n",
    "Average salaries of different majors are roughly similar, except for jobs that do not require a major that have lower average salaries, which could mean that candidates for these jobs have at most a high school degree.\n",
    "\n",
    "*Industry and salary*\n",
    "\n",
    "Finance and oil are the highest paying industries."
   ]
  },
  {
   "cell_type": "markdown",
   "metadata": {},
   "source": [
    "<a id='bar'></a>\n",
    "**Heatmaps**\n",
    "\n",
    "We will visualize heatmaps that look at the salaries of different categorical variables."
   ]
  },
  {
   "cell_type": "code",
   "execution_count": 23,
   "metadata": {},
   "outputs": [],
   "source": [
    "def heat_map(size,ind,dat,tup,color):\n",
    "    plt.figure(figsize=size)\n",
    "    for i in range(len(tup)):\n",
    "        plt.subplot(3,2,i+1)\n",
    "        sns.heatmap(salary_new.groupby([tup[i][0],tup[i][1]])[ind].mean().reset_index().pivot(index=tup[i][1],columns=tup[i][0],values=ind),cmap=color)\n",
    "        plt.xticks(rotation=45)\n",
    "        plt.yticks(rotation=45)\n"
   ]
  },
  {
   "cell_type": "code",
   "execution_count": 24,
   "metadata": {},
   "outputs": [
    {
     "data": {
      "image/png": "[encoded data removed]",
      "text/plain": [
       "<Figure size 1584x2016 with 6 Axes>"
      ]
     },
     "metadata": {
      "needs_background": "light"
     },
     "output_type": "display_data"
    }
   ],
   "source": [
    "tup_deg = [(\"jobType\",\"degree\"),(\"industry\",\"degree\"),(\"major\",\"degree\")]\n",
    "heat_map((22,28),\"salary\",salary_new,tup_deg,\"Blues\")"
   ]
  },
  {
   "cell_type": "markdown",
   "metadata": {},
   "source": [
    "*Degree and job type*\n",
    "\n",
    "Apart from janitorial positions that do not require more than a high school degree, all other positions have at least a bachelor's degree and consist of various degrees. It is interesting to note that more advanced degree do not necessarily pay higher for the same type of position. The career advancement (moving up to a higher position) heavily influences salary.\n",
    "\n",
    "*Degree and industry*\n",
    "\n",
    "It is interesting to see that more advanced degree do not pay much higher in the same industry. It is the type of industry that heavily influences salary.\n",
    "\n",
    "*Degree and major*\n",
    "\n",
    "We see a variety of majors across degrees and doctoral degree with engineering major is the highest paying. It is intuitive that employees with high school or without a degree would not have a major but employees with bachelor's, master's, and doctoral degrees should not have a \"NONE\" as their major. It is possible that their majors are not within the majors listed above. Let's inspect the data to determine what is going on. "
   ]
  },
  {
   "cell_type": "code",
   "execution_count": 25,
   "metadata": {},
   "outputs": [
    {
     "data": {
      "text/html": [
       "<div>\n",
       "<style scoped>\n",
       "    .dataframe tbody tr th:only-of-type {\n",
       "        vertical-align: middle;\n",
       "    }\n",
       "\n",
       "    .dataframe tbody tr th {\n",
       "        vertical-align: top;\n",
       "    }\n",
       "\n",
       "    .dataframe thead th {\n",
       "        text-align: right;\n",
       "    }\n",
       "</style>\n",
       "<table border=\"1\" class=\"dataframe\">\n",
       "  <thead>\n",
       "    <tr style=\"text-align: right;\">\n",
       "      <th></th>\n",
       "      <th>jobId</th>\n",
       "      <th>companyId</th>\n",
       "      <th>jobType</th>\n",
       "      <th>degree</th>\n",
       "      <th>major</th>\n",
       "      <th>industry</th>\n",
       "      <th>yearsExperience</th>\n",
       "      <th>milesFromMetropolis</th>\n",
       "      <th>salary</th>\n",
       "    </tr>\n",
       "  </thead>\n",
       "  <tbody>\n",
       "    <tr>\n",
       "      <th>24</th>\n",
       "      <td>JOB1362684407711</td>\n",
       "      <td>COMP20</td>\n",
       "      <td>CEO</td>\n",
       "      <td>BACHELORS</td>\n",
       "      <td>NONE</td>\n",
       "      <td>WEB</td>\n",
       "      <td>12</td>\n",
       "      <td>8</td>\n",
       "      <td>202</td>\n",
       "    </tr>\n",
       "    <tr>\n",
       "      <th>32</th>\n",
       "      <td>JOB1362684407719</td>\n",
       "      <td>COMP1</td>\n",
       "      <td>CEO</td>\n",
       "      <td>MASTERS</td>\n",
       "      <td>NONE</td>\n",
       "      <td>OIL</td>\n",
       "      <td>7</td>\n",
       "      <td>91</td>\n",
       "      <td>165</td>\n",
       "    </tr>\n",
       "    <tr>\n",
       "      <th>34</th>\n",
       "      <td>JOB1362684407721</td>\n",
       "      <td>COMP31</td>\n",
       "      <td>MANAGER</td>\n",
       "      <td>DOCTORAL</td>\n",
       "      <td>NONE</td>\n",
       "      <td>HEALTH</td>\n",
       "      <td>15</td>\n",
       "      <td>14</td>\n",
       "      <td>164</td>\n",
       "    </tr>\n",
       "    <tr>\n",
       "      <th>40</th>\n",
       "      <td>JOB1362684407727</td>\n",
       "      <td>COMP7</td>\n",
       "      <td>VICE_PRESIDENT</td>\n",
       "      <td>MASTERS</td>\n",
       "      <td>NONE</td>\n",
       "      <td>HEALTH</td>\n",
       "      <td>8</td>\n",
       "      <td>54</td>\n",
       "      <td>141</td>\n",
       "    </tr>\n",
       "    <tr>\n",
       "      <th>46</th>\n",
       "      <td>JOB1362684407733</td>\n",
       "      <td>COMP53</td>\n",
       "      <td>MANAGER</td>\n",
       "      <td>DOCTORAL</td>\n",
       "      <td>NONE</td>\n",
       "      <td>AUTO</td>\n",
       "      <td>19</td>\n",
       "      <td>22</td>\n",
       "      <td>116</td>\n",
       "    </tr>\n",
       "    <tr>\n",
       "      <th>...</th>\n",
       "      <td>...</td>\n",
       "      <td>...</td>\n",
       "      <td>...</td>\n",
       "      <td>...</td>\n",
       "      <td>...</td>\n",
       "      <td>...</td>\n",
       "      <td>...</td>\n",
       "      <td>...</td>\n",
       "      <td>...</td>\n",
       "    </tr>\n",
       "    <tr>\n",
       "      <th>999958</th>\n",
       "      <td>JOB1362685407645</td>\n",
       "      <td>COMP46</td>\n",
       "      <td>JUNIOR</td>\n",
       "      <td>BACHELORS</td>\n",
       "      <td>NONE</td>\n",
       "      <td>SERVICE</td>\n",
       "      <td>24</td>\n",
       "      <td>64</td>\n",
       "      <td>79</td>\n",
       "    </tr>\n",
       "    <tr>\n",
       "      <th>999969</th>\n",
       "      <td>JOB1362685407656</td>\n",
       "      <td>COMP37</td>\n",
       "      <td>JUNIOR</td>\n",
       "      <td>DOCTORAL</td>\n",
       "      <td>NONE</td>\n",
       "      <td>EDUCATION</td>\n",
       "      <td>21</td>\n",
       "      <td>31</td>\n",
       "      <td>131</td>\n",
       "    </tr>\n",
       "    <tr>\n",
       "      <th>999987</th>\n",
       "      <td>JOB1362685407674</td>\n",
       "      <td>COMP51</td>\n",
       "      <td>CFO</td>\n",
       "      <td>MASTERS</td>\n",
       "      <td>NONE</td>\n",
       "      <td>FINANCE</td>\n",
       "      <td>1</td>\n",
       "      <td>99</td>\n",
       "      <td>124</td>\n",
       "    </tr>\n",
       "    <tr>\n",
       "      <th>999998</th>\n",
       "      <td>JOB1362685407685</td>\n",
       "      <td>COMP3</td>\n",
       "      <td>CFO</td>\n",
       "      <td>MASTERS</td>\n",
       "      <td>NONE</td>\n",
       "      <td>HEALTH</td>\n",
       "      <td>6</td>\n",
       "      <td>5</td>\n",
       "      <td>149</td>\n",
       "    </tr>\n",
       "    <tr>\n",
       "      <th>999999</th>\n",
       "      <td>JOB1362685407686</td>\n",
       "      <td>COMP59</td>\n",
       "      <td>JUNIOR</td>\n",
       "      <td>BACHELORS</td>\n",
       "      <td>NONE</td>\n",
       "      <td>EDUCATION</td>\n",
       "      <td>20</td>\n",
       "      <td>11</td>\n",
       "      <td>88</td>\n",
       "    </tr>\n",
       "  </tbody>\n",
       "</table>\n",
       "<p>58525 rows × 9 columns</p>\n",
       "</div>"
      ],
      "text/plain": [
       "                   jobId companyId         jobType     degree major  \\\n",
       "24      JOB1362684407711    COMP20             CEO  BACHELORS  NONE   \n",
       "32      JOB1362684407719     COMP1             CEO    MASTERS  NONE   \n",
       "34      JOB1362684407721    COMP31         MANAGER   DOCTORAL  NONE   \n",
       "40      JOB1362684407727     COMP7  VICE_PRESIDENT    MASTERS  NONE   \n",
       "46      JOB1362684407733    COMP53         MANAGER   DOCTORAL  NONE   \n",
       "...                  ...       ...             ...        ...   ...   \n",
       "999958  JOB1362685407645    COMP46          JUNIOR  BACHELORS  NONE   \n",
       "999969  JOB1362685407656    COMP37          JUNIOR   DOCTORAL  NONE   \n",
       "999987  JOB1362685407674    COMP51             CFO    MASTERS  NONE   \n",
       "999998  JOB1362685407685     COMP3             CFO    MASTERS  NONE   \n",
       "999999  JOB1362685407686    COMP59          JUNIOR  BACHELORS  NONE   \n",
       "\n",
       "         industry  yearsExperience  milesFromMetropolis  salary  \n",
       "24            WEB               12                    8     202  \n",
       "32            OIL                7                   91     165  \n",
       "34         HEALTH               15                   14     164  \n",
       "40         HEALTH                8                   54     141  \n",
       "46           AUTO               19                   22     116  \n",
       "...           ...              ...                  ...     ...  \n",
       "999958    SERVICE               24                   64      79  \n",
       "999969  EDUCATION               21                   31     131  \n",
       "999987    FINANCE                1                   99     124  \n",
       "999998     HEALTH                6                    5     149  \n",
       "999999  EDUCATION               20                   11      88  \n",
       "\n",
       "[58525 rows x 9 columns]"
      ]
     },
     "execution_count": 25,
     "metadata": {},
     "output_type": "execute_result"
    }
   ],
   "source": [
    "salary_combined[(salary_combined.major==\"NONE\") & (salary_combined.degree!=\"NONE\") & (salary_combined.degree!=\"HIGH_SCHOOL\")]"
   ]
  },
  {
   "cell_type": "markdown",
   "metadata": {},
   "source": [
    "6% of employees with at least a bachelor's degree do not have a major and they cover a variety of job types. It is highly possible that these employees do not have majors listed in the list of majors the job portal provides. Hence, we will keep the data as such."
   ]
  },
  {
   "cell_type": "code",
   "execution_count": 26,
   "metadata": {},
   "outputs": [
    {
     "data": {
      "image/png": "[encoded data removed]",
      "text/plain": [
       "<Figure size 1584x2016 with 4 Axes>"
      ]
     },
     "metadata": {
      "needs_background": "light"
     },
     "output_type": "display_data"
    }
   ],
   "source": [
    "tup_major = [(\"jobType\",\"major\"),(\"industry\",\"major\")]\n",
    "heat_map((22,28),\"salary\",salary_new,tup_major,\"Greens\")"
   ]
  },
  {
   "cell_type": "markdown",
   "metadata": {},
   "source": [
    "*Job Type and major*\n",
    "\n",
    "CEO with an engineering major is paid the most. It is interesting that business and engineering majors are paid slightly more than other majors, especially for senior level positions.  \n",
    "\n",
    "*Industry and major*\n",
    "\n",
    "This is an interesting trend as we see that majors that are directly related to industry are paid higher. Literature major is paid more in the education industry, business major is paid more in the service and finance industries, especially the latter. Biology and chemistry majors are paid more in the health industry. Engineering major is highly paid in the auto, web, finance, and oil industries. "
   ]
  },
  {
   "cell_type": "code",
   "execution_count": 27,
   "metadata": {},
   "outputs": [
    {
     "data": {
      "image/png": "[encoded data removed]",
      "text/plain": [
       "<Figure size 1008x1152 with 2 Axes>"
      ]
     },
     "metadata": {
      "needs_background": "light"
     },
     "output_type": "display_data"
    }
   ],
   "source": [
    "tup_industry = [(\"jobType\",\"industry\")]\n",
    "heat_map((14,16),\"salary\",salary_new,tup_industry,\"Purples\")"
   ]
  },
  {
   "cell_type": "markdown",
   "metadata": {},
   "source": [
    "*Job type and indsutry*\n",
    "\n",
    "Oil and finance industries are the highest paying, even for janitorial and entry-level positions, compared to the pay in other industries."
   ]
  },
  {
   "cell_type": "markdown",
   "metadata": {},
   "source": [
    "\n",
    "<a id='baseline'></a>\n",
    "### 5. Establish a baseline"
   ]
  },
  {
   "cell_type": "markdown",
   "metadata": {},
   "source": [
    "Since there is noticeable variation in salary for different job types, we will use the average salary for each job type as the predicted salary and calculate MSE to establish our baseline. The models that we will be built need to have lower MSE than the baseline."
   ]
  },
  {
   "cell_type": "code",
   "execution_count": 28,
   "metadata": {},
   "outputs": [],
   "source": [
    "mean_job_type = salary_new.groupby(\"jobType\").mean().reset_index()\n",
    "mean_job_type.drop(columns=[\"yearsExperience\",\"milesFromMetropolis\"],inplace=True)"
   ]
  },
  {
   "cell_type": "code",
   "execution_count": 29,
   "metadata": {},
   "outputs": [
    {
     "data": {
      "text/html": [
       "<div>\n",
       "<style scoped>\n",
       "    .dataframe tbody tr th:only-of-type {\n",
       "        vertical-align: middle;\n",
       "    }\n",
       "\n",
       "    .dataframe tbody tr th {\n",
       "        vertical-align: top;\n",
       "    }\n",
       "\n",
       "    .dataframe thead th {\n",
       "        text-align: right;\n",
       "    }\n",
       "</style>\n",
       "<table border=\"1\" class=\"dataframe\">\n",
       "  <thead>\n",
       "    <tr style=\"text-align: right;\">\n",
       "      <th></th>\n",
       "      <th>jobType</th>\n",
       "      <th>salary</th>\n",
       "    </tr>\n",
       "  </thead>\n",
       "  <tbody>\n",
       "    <tr>\n",
       "      <th>0</th>\n",
       "      <td>JANITOR</td>\n",
       "      <td>70.813045</td>\n",
       "    </tr>\n",
       "    <tr>\n",
       "      <th>1</th>\n",
       "      <td>JUNIOR</td>\n",
       "      <td>95.333087</td>\n",
       "    </tr>\n",
       "    <tr>\n",
       "      <th>2</th>\n",
       "      <td>SENIOR</td>\n",
       "      <td>105.487775</td>\n",
       "    </tr>\n",
       "    <tr>\n",
       "      <th>3</th>\n",
       "      <td>MANAGER</td>\n",
       "      <td>115.368518</td>\n",
       "    </tr>\n",
       "    <tr>\n",
       "      <th>4</th>\n",
       "      <td>VICE_PRESIDENT</td>\n",
       "      <td>125.368630</td>\n",
       "    </tr>\n",
       "    <tr>\n",
       "      <th>5</th>\n",
       "      <td>CFO</td>\n",
       "      <td>135.458547</td>\n",
       "    </tr>\n",
       "    <tr>\n",
       "      <th>6</th>\n",
       "      <td>CTO</td>\n",
       "      <td>135.481067</td>\n",
       "    </tr>\n",
       "    <tr>\n",
       "      <th>7</th>\n",
       "      <td>CEO</td>\n",
       "      <td>145.311425</td>\n",
       "    </tr>\n",
       "  </tbody>\n",
       "</table>\n",
       "</div>"
      ],
      "text/plain": [
       "          jobType      salary\n",
       "0         JANITOR   70.813045\n",
       "1          JUNIOR   95.333087\n",
       "2          SENIOR  105.487775\n",
       "3         MANAGER  115.368518\n",
       "4  VICE_PRESIDENT  125.368630\n",
       "5             CFO  135.458547\n",
       "6             CTO  135.481067\n",
       "7             CEO  145.311425"
      ]
     },
     "execution_count": 29,
     "metadata": {},
     "output_type": "execute_result"
    }
   ],
   "source": [
    "mean_job_type"
   ]
  },
  {
   "cell_type": "code",
   "execution_count": 30,
   "metadata": {},
   "outputs": [],
   "source": [
    "pred_bs = salary_new.join(mean_job_type.set_index([\"jobType\"]),on=\"jobType\",how=\"left\",rsuffix=\"predicted\")"
   ]
  },
  {
   "cell_type": "code",
   "execution_count": 31,
   "metadata": {},
   "outputs": [],
   "source": [
    "def mse(obs,pred):\n",
    "    total = 0\n",
    "    for i in range(len(obs)):\n",
    "        delta = (obs[i]-pred[i])**2\n",
    "        total += delta\n",
    "    return total/(len(obs))   "
   ]
  },
  {
   "cell_type": "code",
   "execution_count": 32,
   "metadata": {},
   "outputs": [],
   "source": [
    "mse_baseline = mse(pred_bs.salary.values,pred_bs.salarypredicted.values)"
   ]
  },
  {
   "cell_type": "code",
   "execution_count": 33,
   "metadata": {},
   "outputs": [
    {
     "data": {
      "text/plain": [
       "963.9252996562875"
      ]
     },
     "execution_count": 33,
     "metadata": {},
     "output_type": "execute_result"
    }
   ],
   "source": [
    "mse_baseline"
   ]
  },
  {
   "cell_type": "markdown",
   "metadata": {},
   "source": [
    "\n",
    "### 6. Hypothesize solutions"
   ]
  },
  {
   "cell_type": "markdown",
   "metadata": {},
   "source": [
    "Based on the EDA, features such as job type, degree, major, industry, miles from metropolis, years of experience are correlated with salary. \n",
    "\n",
    "Because the target variable, salary, is normally distributed and there is some correlation between features and salary, a **Linear Regression model** would be appropriate. Furthermore, a linear regression model is easily interpretable and  productionalized at low cost. We will compare the regression approach with **Random Forest** and **Gradient Boosting**, both are tree-based method robust to outliers.\n",
    "\n",
    "In terms of feature engineering, we will convert categorical features to numeric using one-hot encoding where each category becomes a column and values are filled with 1 (if category is present) or 0 otherwise, because it retains representation of data in numeric form that machine learning models will be able to learn from. We will also drop the columns \"jobID\" and \"companyId\" as they are identifiers. "
   ]
  },
  {
   "cell_type": "markdown",
   "metadata": {},
   "source": [
    "***\n",
    "## Part 3 - DEVELOP"
   ]
  },
  {
   "cell_type": "markdown",
   "metadata": {},
   "source": [
    "### 7. Engineer features"
   ]
  },
  {
   "cell_type": "markdown",
   "metadata": {},
   "source": [
    "**Dropping variables**\n",
    "\n",
    "Company id and job id are identifiers that do not provide meaningful information to predict salary and will be removed.\n",
    "\n",
    "**Converting categorical data to numerical**\n",
    "\n",
    "One-hot encoding will be used as explained above."
   ]
  },
  {
   "cell_type": "code",
   "execution_count": 34,
   "metadata": {},
   "outputs": [],
   "source": [
    "def feature_engineer(data,dropcols,cat_var,num_var):\n",
    "    featured = data.drop(columns=dropcols)\n",
    "    dummy = pd.get_dummies(data[cat_var])\n",
    "    num_df = data[num_var].apply(pd.to_numeric)\n",
    "    new_df = pd.concat([num_df,dummy],axis=1)\n",
    "    return new_df"
   ]
  },
  {
   "cell_type": "code",
   "execution_count": 35,
   "metadata": {},
   "outputs": [],
   "source": [
    "dropcols = [\"jobId\",\"companyId\"]\n",
    "categorical_var = [\"major\",\"degree\",\"jobType\",\"industry\"]\n",
    "numerical_var = [\"yearsExperience\",\"milesFromMetropolis\"]\n",
    "new_salary_featured = feature_engineer(salary_new,dropcols,categorical_var,numerical_var)"
   ]
  },
  {
   "cell_type": "code",
   "execution_count": 36,
   "metadata": {},
   "outputs": [
    {
     "data": {
      "text/html": [
       "<div>\n",
       "<style scoped>\n",
       "    .dataframe tbody tr th:only-of-type {\n",
       "        vertical-align: middle;\n",
       "    }\n",
       "\n",
       "    .dataframe tbody tr th {\n",
       "        vertical-align: top;\n",
       "    }\n",
       "\n",
       "    .dataframe thead th {\n",
       "        text-align: right;\n",
       "    }\n",
       "</style>\n",
       "<table border=\"1\" class=\"dataframe\">\n",
       "  <thead>\n",
       "    <tr style=\"text-align: right;\">\n",
       "      <th></th>\n",
       "      <th>yearsExperience</th>\n",
       "      <th>milesFromMetropolis</th>\n",
       "      <th>major_NONE</th>\n",
       "      <th>major_LITERATURE</th>\n",
       "      <th>major_BIOLOGY</th>\n",
       "      <th>major_CHEMISTRY</th>\n",
       "      <th>major_PHYSICS</th>\n",
       "      <th>major_COMPSCI</th>\n",
       "      <th>major_MATH</th>\n",
       "      <th>major_BUSINESS</th>\n",
       "      <th>...</th>\n",
       "      <th>jobType_CFO</th>\n",
       "      <th>jobType_CTO</th>\n",
       "      <th>jobType_CEO</th>\n",
       "      <th>industry_EDUCATION</th>\n",
       "      <th>industry_SERVICE</th>\n",
       "      <th>industry_AUTO</th>\n",
       "      <th>industry_HEALTH</th>\n",
       "      <th>industry_WEB</th>\n",
       "      <th>industry_FINANCE</th>\n",
       "      <th>industry_OIL</th>\n",
       "    </tr>\n",
       "  </thead>\n",
       "  <tbody>\n",
       "    <tr>\n",
       "      <th>0</th>\n",
       "      <td>10</td>\n",
       "      <td>83</td>\n",
       "      <td>0</td>\n",
       "      <td>0</td>\n",
       "      <td>0</td>\n",
       "      <td>0</td>\n",
       "      <td>0</td>\n",
       "      <td>0</td>\n",
       "      <td>1</td>\n",
       "      <td>0</td>\n",
       "      <td>...</td>\n",
       "      <td>1</td>\n",
       "      <td>0</td>\n",
       "      <td>0</td>\n",
       "      <td>0</td>\n",
       "      <td>0</td>\n",
       "      <td>0</td>\n",
       "      <td>1</td>\n",
       "      <td>0</td>\n",
       "      <td>0</td>\n",
       "      <td>0</td>\n",
       "    </tr>\n",
       "    <tr>\n",
       "      <th>1</th>\n",
       "      <td>3</td>\n",
       "      <td>73</td>\n",
       "      <td>1</td>\n",
       "      <td>0</td>\n",
       "      <td>0</td>\n",
       "      <td>0</td>\n",
       "      <td>0</td>\n",
       "      <td>0</td>\n",
       "      <td>0</td>\n",
       "      <td>0</td>\n",
       "      <td>...</td>\n",
       "      <td>0</td>\n",
       "      <td>0</td>\n",
       "      <td>1</td>\n",
       "      <td>0</td>\n",
       "      <td>0</td>\n",
       "      <td>0</td>\n",
       "      <td>0</td>\n",
       "      <td>1</td>\n",
       "      <td>0</td>\n",
       "      <td>0</td>\n",
       "    </tr>\n",
       "    <tr>\n",
       "      <th>2</th>\n",
       "      <td>10</td>\n",
       "      <td>38</td>\n",
       "      <td>0</td>\n",
       "      <td>0</td>\n",
       "      <td>0</td>\n",
       "      <td>0</td>\n",
       "      <td>1</td>\n",
       "      <td>0</td>\n",
       "      <td>0</td>\n",
       "      <td>0</td>\n",
       "      <td>...</td>\n",
       "      <td>0</td>\n",
       "      <td>0</td>\n",
       "      <td>0</td>\n",
       "      <td>0</td>\n",
       "      <td>0</td>\n",
       "      <td>0</td>\n",
       "      <td>1</td>\n",
       "      <td>0</td>\n",
       "      <td>0</td>\n",
       "      <td>0</td>\n",
       "    </tr>\n",
       "    <tr>\n",
       "      <th>3</th>\n",
       "      <td>8</td>\n",
       "      <td>17</td>\n",
       "      <td>0</td>\n",
       "      <td>0</td>\n",
       "      <td>0</td>\n",
       "      <td>1</td>\n",
       "      <td>0</td>\n",
       "      <td>0</td>\n",
       "      <td>0</td>\n",
       "      <td>0</td>\n",
       "      <td>...</td>\n",
       "      <td>0</td>\n",
       "      <td>0</td>\n",
       "      <td>0</td>\n",
       "      <td>0</td>\n",
       "      <td>0</td>\n",
       "      <td>1</td>\n",
       "      <td>0</td>\n",
       "      <td>0</td>\n",
       "      <td>0</td>\n",
       "      <td>0</td>\n",
       "    </tr>\n",
       "    <tr>\n",
       "      <th>4</th>\n",
       "      <td>8</td>\n",
       "      <td>16</td>\n",
       "      <td>0</td>\n",
       "      <td>0</td>\n",
       "      <td>0</td>\n",
       "      <td>0</td>\n",
       "      <td>1</td>\n",
       "      <td>0</td>\n",
       "      <td>0</td>\n",
       "      <td>0</td>\n",
       "      <td>...</td>\n",
       "      <td>0</td>\n",
       "      <td>0</td>\n",
       "      <td>0</td>\n",
       "      <td>0</td>\n",
       "      <td>0</td>\n",
       "      <td>0</td>\n",
       "      <td>0</td>\n",
       "      <td>0</td>\n",
       "      <td>1</td>\n",
       "      <td>0</td>\n",
       "    </tr>\n",
       "  </tbody>\n",
       "</table>\n",
       "<p>5 rows × 31 columns</p>\n",
       "</div>"
      ],
      "text/plain": [
       "   yearsExperience  milesFromMetropolis  major_NONE  major_LITERATURE  \\\n",
       "0               10                   83           0                 0   \n",
       "1                3                   73           1                 0   \n",
       "2               10                   38           0                 0   \n",
       "3                8                   17           0                 0   \n",
       "4                8                   16           0                 0   \n",
       "\n",
       "   major_BIOLOGY  major_CHEMISTRY  major_PHYSICS  major_COMPSCI  major_MATH  \\\n",
       "0              0                0              0              0           1   \n",
       "1              0                0              0              0           0   \n",
       "2              0                0              1              0           0   \n",
       "3              0                1              0              0           0   \n",
       "4              0                0              1              0           0   \n",
       "\n",
       "   major_BUSINESS  ...  jobType_CFO  jobType_CTO  jobType_CEO  \\\n",
       "0               0  ...            1            0            0   \n",
       "1               0  ...            0            0            1   \n",
       "2               0  ...            0            0            0   \n",
       "3               0  ...            0            0            0   \n",
       "4               0  ...            0            0            0   \n",
       "\n",
       "   industry_EDUCATION  industry_SERVICE  industry_AUTO  industry_HEALTH  \\\n",
       "0                   0                 0              0                1   \n",
       "1                   0                 0              0                0   \n",
       "2                   0                 0              0                1   \n",
       "3                   0                 0              1                0   \n",
       "4                   0                 0              0                0   \n",
       "\n",
       "   industry_WEB  industry_FINANCE  industry_OIL  \n",
       "0             0                 0             0  \n",
       "1             1                 0             0  \n",
       "2             0                 0             0  \n",
       "3             0                 0             0  \n",
       "4             0                 1             0  \n",
       "\n",
       "[5 rows x 31 columns]"
      ]
     },
     "execution_count": 36,
     "metadata": {},
     "output_type": "execute_result"
    }
   ],
   "source": [
    "new_salary_featured.head()"
   ]
  },
  {
   "cell_type": "markdown",
   "metadata": {},
   "source": [
    "<a id='split'></a>\n",
    "\n",
    "**Splitting data into training and testing sets**"
   ]
  },
  {
   "cell_type": "code",
   "execution_count": 37,
   "metadata": {},
   "outputs": [],
   "source": [
    "# Create the target and feature set\n",
    "target = salary_new['salary']\n",
    "\n",
    "# Define train and test\n",
    "features_train, features_test, target_train, target_test = train_test_split(new_salary_featured,target,test_size=0.20, random_state=123)"
   ]
  },
  {
   "cell_type": "markdown",
   "metadata": {},
   "source": [
    "### 8. Create & test models "
   ]
  },
  {
   "cell_type": "markdown",
   "metadata": {},
   "source": [
    "<a id='lr'></a>\n",
    "**Linear regression**"
   ]
  },
  {
   "cell_type": "code",
   "execution_count": 38,
   "metadata": {},
   "outputs": [],
   "source": [
    "# Train model\n",
    "reg  = LinearRegression().fit(features_train,target_train)\n",
    "\n",
    "# Apply model on test set to predict salary\n",
    "lr_pred = reg.predict(features_test)"
   ]
  },
  {
   "cell_type": "code",
   "execution_count": 39,
   "metadata": {},
   "outputs": [
    {
     "data": {
      "text/plain": [
       "0.7433458801931929"
      ]
     },
     "execution_count": 39,
     "metadata": {},
     "output_type": "execute_result"
    }
   ],
   "source": [
    "# R^2 of model\n",
    "reg.score(features_train,target_train)"
   ]
  },
  {
   "cell_type": "markdown",
   "metadata": {},
   "source": [
    "The linear regression model has an R^2 of ~0.74, which means that 74% of variation in salary can be explained by the model."
   ]
  },
  {
   "cell_type": "code",
   "execution_count": 40,
   "metadata": {},
   "outputs": [
    {
     "data": {
      "text/plain": [
       "384.4547073148285"
      ]
     },
     "execution_count": 40,
     "metadata": {},
     "output_type": "execute_result"
    }
   ],
   "source": [
    "mse_lr = mse(list(target_test),lr_pred)\n",
    "mse_lr"
   ]
  },
  {
   "cell_type": "markdown",
   "metadata": {},
   "source": [
    "The model achieves MSE of ~384, which is 60% lower than the baseline."
   ]
  },
  {
   "cell_type": "markdown",
   "metadata": {},
   "source": [
    "<a id='rf'></a>\n",
    "**Random forest**"
   ]
  },
  {
   "cell_type": "markdown",
   "metadata": {},
   "source": [
    "After tuning parameters (number of trees, depth of trees, number of features, minimum number of samples in each leaf) by hand, the following parameters have been found to result in the lowest MSE.\n",
    "\n",
    "Number of trees: 60\n",
    "\n",
    "Depth of trees: 25\n",
    "\n",
    "Maximum number of features: 30\n",
    "\n",
    "Minimum samples in each leaf: 660\n"
   ]
  },
  {
   "cell_type": "code",
   "execution_count": 41,
   "metadata": {},
   "outputs": [],
   "source": [
    "rf = RandomForestRegressor(n_estimators=60, n_jobs=3, max_depth=25, random_state=123, oob_score=True, max_features=30, min_samples_split=60)"
   ]
  },
  {
   "cell_type": "code",
   "execution_count": 42,
   "metadata": {},
   "outputs": [
    {
     "data": {
      "text/plain": [
       "RandomForestRegressor(bootstrap=True, ccp_alpha=0.0, criterion='mse',\n",
       "                      max_depth=25, max_features=30, max_leaf_nodes=None,\n",
       "                      max_samples=None, min_impurity_decrease=0.0,\n",
       "                      min_impurity_split=None, min_samples_leaf=1,\n",
       "                      min_samples_split=60, min_weight_fraction_leaf=0.0,\n",
       "                      n_estimators=60, n_jobs=3, oob_score=True,\n",
       "                      random_state=123, verbose=0, warm_start=False)"
      ]
     },
     "execution_count": 42,
     "metadata": {},
     "output_type": "execute_result"
    }
   ],
   "source": [
    "rf.fit(features_train, target_train)"
   ]
  },
  {
   "cell_type": "code",
   "execution_count": 43,
   "metadata": {},
   "outputs": [
    {
     "data": {
      "text/plain": [
       "0.7546201261964152"
      ]
     },
     "execution_count": 43,
     "metadata": {},
     "output_type": "execute_result"
    }
   ],
   "source": [
    "rf.oob_score_"
   ]
  },
  {
   "cell_type": "code",
   "execution_count": 44,
   "metadata": {},
   "outputs": [
    {
     "data": {
      "text/plain": [
       "0.7844535990161307"
      ]
     },
     "execution_count": 44,
     "metadata": {},
     "output_type": "execute_result"
    }
   ],
   "source": [
    "rf.score(features_train, target_train)"
   ]
  },
  {
   "cell_type": "markdown",
   "metadata": {},
   "source": [
    "The out of bag score is ~0.75, meaning that 75% of variation in salary can be explained by the model on unseen data that was not used in the training set. The R^2 turns out to be 0.78, meaning that 78% of variation in salary can be explained by the model on the entire training set. "
   ]
  },
  {
   "cell_type": "code",
   "execution_count": 45,
   "metadata": {},
   "outputs": [],
   "source": [
    "predictions = rf.predict(features_test)"
   ]
  },
  {
   "cell_type": "code",
   "execution_count": 46,
   "metadata": {},
   "outputs": [
    {
     "data": {
      "text/plain": [
       "364.9355769788953"
      ]
     },
     "execution_count": 46,
     "metadata": {},
     "output_type": "execute_result"
    }
   ],
   "source": [
    "mse_rf = mse(list(target_test),predictions)\n",
    "mse_rf"
   ]
  },
  {
   "cell_type": "markdown",
   "metadata": {},
   "source": [
    "The MSE is ~365, which is 5% lower than MSE of linear regression and 62% lower than baseline prediction where the average salary is predicted according to job type."
   ]
  },
  {
   "cell_type": "code",
   "execution_count": 69,
   "metadata": {},
   "outputs": [],
   "source": [
    "# Function to visualize feature importance\n",
    "def feature_importance(data, model, n):\n",
    "    df = pd.DataFrame({\"Features\":data.columns, \"Importances\":model.feature_importances_})\n",
    "    df.sort_values([\"Importances\"], inplace=True, ascending=False)\n",
    "    df.set_index(\"Features\",inplace=True,drop=True)\n",
    "    df[0:n].plot.bar(figsize=(20,10),legend=False)\n",
    "    return df.sort_values([\"Importances\"],ascending=False)"
   ]
  },
  {
   "cell_type": "code",
   "execution_count": 70,
   "metadata": {},
   "outputs": [
    {
     "data": {
      "text/html": [
       "<div>\n",
       "<style scoped>\n",
       "    .dataframe tbody tr th:only-of-type {\n",
       "        vertical-align: middle;\n",
       "    }\n",
       "\n",
       "    .dataframe tbody tr th {\n",
       "        vertical-align: top;\n",
       "    }\n",
       "\n",
       "    .dataframe thead th {\n",
       "        text-align: right;\n",
       "    }\n",
       "</style>\n",
       "<table border=\"1\" class=\"dataframe\">\n",
       "  <thead>\n",
       "    <tr style=\"text-align: right;\">\n",
       "      <th></th>\n",
       "      <th>Importances</th>\n",
       "    </tr>\n",
       "    <tr>\n",
       "      <th>Features</th>\n",
       "      <th></th>\n",
       "    </tr>\n",
       "  </thead>\n",
       "  <tbody>\n",
       "    <tr>\n",
       "      <th>jobType_JANITOR</th>\n",
       "      <td>0.248402</td>\n",
       "    </tr>\n",
       "    <tr>\n",
       "      <th>yearsExperience</th>\n",
       "      <td>0.187005</td>\n",
       "    </tr>\n",
       "    <tr>\n",
       "      <th>milesFromMetropolis</th>\n",
       "      <td>0.140443</td>\n",
       "    </tr>\n",
       "    <tr>\n",
       "      <th>jobType_JUNIOR</th>\n",
       "      <td>0.090995</td>\n",
       "    </tr>\n",
       "    <tr>\n",
       "      <th>major_NONE</th>\n",
       "      <td>0.067111</td>\n",
       "    </tr>\n",
       "    <tr>\n",
       "      <th>jobType_SENIOR</th>\n",
       "      <td>0.059456</td>\n",
       "    </tr>\n",
       "    <tr>\n",
       "      <th>industry_EDUCATION</th>\n",
       "      <td>0.036522</td>\n",
       "    </tr>\n",
       "    <tr>\n",
       "      <th>jobType_MANAGER</th>\n",
       "      <td>0.033930</td>\n",
       "    </tr>\n",
       "    <tr>\n",
       "      <th>industry_SERVICE</th>\n",
       "      <td>0.026819</td>\n",
       "    </tr>\n",
       "    <tr>\n",
       "      <th>industry_AUTO</th>\n",
       "      <td>0.020031</td>\n",
       "    </tr>\n",
       "    <tr>\n",
       "      <th>industry_HEALTH</th>\n",
       "      <td>0.011679</td>\n",
       "    </tr>\n",
       "    <tr>\n",
       "      <th>jobType_VICE_PRESIDENT</th>\n",
       "      <td>0.011295</td>\n",
       "    </tr>\n",
       "    <tr>\n",
       "      <th>jobType_CEO</th>\n",
       "      <td>0.010007</td>\n",
       "    </tr>\n",
       "    <tr>\n",
       "      <th>industry_WEB</th>\n",
       "      <td>0.007402</td>\n",
       "    </tr>\n",
       "    <tr>\n",
       "      <th>degree_DOCTORAL</th>\n",
       "      <td>0.006912</td>\n",
       "    </tr>\n",
       "    <tr>\n",
       "      <th>major_ENGINEERING</th>\n",
       "      <td>0.005782</td>\n",
       "    </tr>\n",
       "    <tr>\n",
       "      <th>industry_OIL</th>\n",
       "      <td>0.005265</td>\n",
       "    </tr>\n",
       "    <tr>\n",
       "      <th>industry_FINANCE</th>\n",
       "      <td>0.005157</td>\n",
       "    </tr>\n",
       "    <tr>\n",
       "      <th>degree_NONE</th>\n",
       "      <td>0.004133</td>\n",
       "    </tr>\n",
       "    <tr>\n",
       "      <th>major_BUSINESS</th>\n",
       "      <td>0.003993</td>\n",
       "    </tr>\n",
       "    <tr>\n",
       "      <th>degree_BACHELORS</th>\n",
       "      <td>0.003869</td>\n",
       "    </tr>\n",
       "    <tr>\n",
       "      <th>major_LITERATURE</th>\n",
       "      <td>0.002384</td>\n",
       "    </tr>\n",
       "    <tr>\n",
       "      <th>degree_MASTERS</th>\n",
       "      <td>0.001937</td>\n",
       "    </tr>\n",
       "    <tr>\n",
       "      <th>major_MATH</th>\n",
       "      <td>0.001881</td>\n",
       "    </tr>\n",
       "    <tr>\n",
       "      <th>degree_HIGH_SCHOOL</th>\n",
       "      <td>0.001622</td>\n",
       "    </tr>\n",
       "    <tr>\n",
       "      <th>major_BIOLOGY</th>\n",
       "      <td>0.001557</td>\n",
       "    </tr>\n",
       "    <tr>\n",
       "      <th>major_CHEMISTRY</th>\n",
       "      <td>0.001471</td>\n",
       "    </tr>\n",
       "    <tr>\n",
       "      <th>major_PHYSICS</th>\n",
       "      <td>0.001097</td>\n",
       "    </tr>\n",
       "    <tr>\n",
       "      <th>major_COMPSCI</th>\n",
       "      <td>0.001027</td>\n",
       "    </tr>\n",
       "    <tr>\n",
       "      <th>jobType_CFO</th>\n",
       "      <td>0.000410</td>\n",
       "    </tr>\n",
       "    <tr>\n",
       "      <th>jobType_CTO</th>\n",
       "      <td>0.000408</td>\n",
       "    </tr>\n",
       "  </tbody>\n",
       "</table>\n",
       "</div>"
      ],
      "text/plain": [
       "                        Importances\n",
       "Features                           \n",
       "jobType_JANITOR            0.248402\n",
       "yearsExperience            0.187005\n",
       "milesFromMetropolis        0.140443\n",
       "jobType_JUNIOR             0.090995\n",
       "major_NONE                 0.067111\n",
       "jobType_SENIOR             0.059456\n",
       "industry_EDUCATION         0.036522\n",
       "jobType_MANAGER            0.033930\n",
       "industry_SERVICE           0.026819\n",
       "industry_AUTO              0.020031\n",
       "industry_HEALTH            0.011679\n",
       "jobType_VICE_PRESIDENT     0.011295\n",
       "jobType_CEO                0.010007\n",
       "industry_WEB               0.007402\n",
       "degree_DOCTORAL            0.006912\n",
       "major_ENGINEERING          0.005782\n",
       "industry_OIL               0.005265\n",
       "industry_FINANCE           0.005157\n",
       "degree_NONE                0.004133\n",
       "major_BUSINESS             0.003993\n",
       "degree_BACHELORS           0.003869\n",
       "major_LITERATURE           0.002384\n",
       "degree_MASTERS             0.001937\n",
       "major_MATH                 0.001881\n",
       "degree_HIGH_SCHOOL         0.001622\n",
       "major_BIOLOGY              0.001557\n",
       "major_CHEMISTRY            0.001471\n",
       "major_PHYSICS              0.001097\n",
       "major_COMPSCI              0.001027\n",
       "jobType_CFO                0.000410\n",
       "jobType_CTO                0.000408"
      ]
     },
     "execution_count": 70,
     "metadata": {},
     "output_type": "execute_result"
    },
    {
     "data": {
      "image/png": "[encoded data removed]",
      "text/plain": [
       "<Figure size 1440x720 with 1 Axes>"
      ]
     },
     "metadata": {
      "needs_background": "light"
     },
     "output_type": "display_data"
    }
   ],
   "source": [
    "feature_importance(features_train, rf, 30)"
   ]
  },
  {
   "cell_type": "markdown",
   "metadata": {},
   "source": [
    "Job type, years of experience, and location influence salary more than degree and major. Looking at the top 5 features for job type, junior and janitorial positions have more predictable salary compared to other positions. This is possible because entry-level and certain types of position are more likely to have a fix salary. It is intuitive that years of experience and location are strongly influence salary as people get compensated more if they have more years of experience and are closer to the city, vice-versa."
   ]
  },
  {
   "cell_type": "markdown",
   "metadata": {},
   "source": [
    "**Gradient Boosting**"
   ]
  },
  {
   "cell_type": "markdown",
   "metadata": {},
   "source": [
    "The hyperparameters (number of trees and maximum depth of trees) are tuned by hand and parameters that result in the lowest MSE are selected. "
   ]
  },
  {
   "cell_type": "code",
   "execution_count": 91,
   "metadata": {},
   "outputs": [
    {
     "name": "stdout",
     "output_type": "stream",
     "text": [
      "      Iter       Train Loss   Remaining Time \n",
      "         1        1350.1331            9.73m\n",
      "         2        1228.9090            9.86m\n",
      "         3        1128.9600            9.85m\n",
      "         4        1045.2253            9.56m\n",
      "         5         974.0627            9.72m\n",
      "         6         914.5097            9.87m\n",
      "         7         862.0545            9.50m\n",
      "         8         814.3808            9.21m\n",
      "         9         772.7444            8.91m\n",
      "        10         736.7700            8.71m\n",
      "        20         521.6700            7.63m\n",
      "        30         436.0633            7.05m\n",
      "        40         397.8195            6.39m\n",
      "        50         379.6589            5.80m\n",
      "        60         370.0449            5.22m\n",
      "        70         364.8736            4.64m\n",
      "        80         361.8131            4.04m\n",
      "        90         359.7044            3.45m\n",
      "       100         358.1457            2.87m\n"
     ]
    },
    {
     "data": {
      "text/plain": [
       "0.7630059631123869"
      ]
     },
     "execution_count": 91,
     "metadata": {},
     "output_type": "execute_result"
    }
   ],
   "source": [
    "gb = GradientBoostingRegressor(n_estimators = 150, max_depth=5,verbose=1)\n",
    "gb.fit(features_train, target_train)\n",
    "gb.score(features_train, target_train)"
   ]
  },
  {
   "cell_type": "code",
   "execution_count": 92,
   "metadata": {},
   "outputs": [],
   "source": [
    "gb_predictions = gb.predict(features_test)"
   ]
  },
  {
   "cell_type": "code",
   "execution_count": 93,
   "metadata": {},
   "outputs": [
    {
     "data": {
      "text/plain": [
       "355.97901559290926"
      ]
     },
     "execution_count": 93,
     "metadata": {},
     "output_type": "execute_result"
    }
   ],
   "source": [
    "mse_gb = mse(list(target_test),gb_predictions)\n",
    "mse_gb"
   ]
  },
  {
   "cell_type": "markdown",
   "metadata": {},
   "source": [
    "The R^2 of the model is ~76%, which is higher than the linear regression and random forest models. The MSE is also lower than the previous 2 models, and lower than the baseline by ~63%."
   ]
  },
  {
   "cell_type": "code",
   "execution_count": 94,
   "metadata": {},
   "outputs": [
    {
     "data": {
      "text/html": [
       "<div>\n",
       "<style scoped>\n",
       "    .dataframe tbody tr th:only-of-type {\n",
       "        vertical-align: middle;\n",
       "    }\n",
       "\n",
       "    .dataframe tbody tr th {\n",
       "        vertical-align: top;\n",
       "    }\n",
       "\n",
       "    .dataframe thead th {\n",
       "        text-align: right;\n",
       "    }\n",
       "</style>\n",
       "<table border=\"1\" class=\"dataframe\">\n",
       "  <thead>\n",
       "    <tr style=\"text-align: right;\">\n",
       "      <th></th>\n",
       "      <th>Importances</th>\n",
       "    </tr>\n",
       "    <tr>\n",
       "      <th>Features</th>\n",
       "      <th></th>\n",
       "    </tr>\n",
       "  </thead>\n",
       "  <tbody>\n",
       "    <tr>\n",
       "      <th>jobType_JANITOR</th>\n",
       "      <td>0.220535</td>\n",
       "    </tr>\n",
       "    <tr>\n",
       "      <th>yearsExperience</th>\n",
       "      <td>0.186632</td>\n",
       "    </tr>\n",
       "    <tr>\n",
       "      <th>milesFromMetropolis</th>\n",
       "      <td>0.129582</td>\n",
       "    </tr>\n",
       "    <tr>\n",
       "      <th>major_NONE</th>\n",
       "      <td>0.083185</td>\n",
       "    </tr>\n",
       "    <tr>\n",
       "      <th>jobType_JUNIOR</th>\n",
       "      <td>0.075313</td>\n",
       "    </tr>\n",
       "    <tr>\n",
       "      <th>jobType_CEO</th>\n",
       "      <td>0.049210</td>\n",
       "    </tr>\n",
       "    <tr>\n",
       "      <th>jobType_SENIOR</th>\n",
       "      <td>0.041146</td>\n",
       "    </tr>\n",
       "    <tr>\n",
       "      <th>industry_EDUCATION</th>\n",
       "      <td>0.030356</td>\n",
       "    </tr>\n",
       "    <tr>\n",
       "      <th>industry_FINANCE</th>\n",
       "      <td>0.026901</td>\n",
       "    </tr>\n",
       "    <tr>\n",
       "      <th>industry_OIL</th>\n",
       "      <td>0.024797</td>\n",
       "    </tr>\n",
       "    <tr>\n",
       "      <th>jobType_CTO</th>\n",
       "      <td>0.021021</td>\n",
       "    </tr>\n",
       "    <tr>\n",
       "      <th>jobType_CFO</th>\n",
       "      <td>0.020521</td>\n",
       "    </tr>\n",
       "    <tr>\n",
       "      <th>industry_SERVICE</th>\n",
       "      <td>0.016993</td>\n",
       "    </tr>\n",
       "    <tr>\n",
       "      <th>degree_DOCTORAL</th>\n",
       "      <td>0.015242</td>\n",
       "    </tr>\n",
       "    <tr>\n",
       "      <th>jobType_MANAGER</th>\n",
       "      <td>0.008755</td>\n",
       "    </tr>\n",
       "    <tr>\n",
       "      <th>industry_WEB</th>\n",
       "      <td>0.008451</td>\n",
       "    </tr>\n",
       "    <tr>\n",
       "      <th>industry_AUTO</th>\n",
       "      <td>0.007548</td>\n",
       "    </tr>\n",
       "    <tr>\n",
       "      <th>degree_NONE</th>\n",
       "      <td>0.006565</td>\n",
       "    </tr>\n",
       "    <tr>\n",
       "      <th>major_ENGINEERING</th>\n",
       "      <td>0.005770</td>\n",
       "    </tr>\n",
       "    <tr>\n",
       "      <th>degree_MASTERS</th>\n",
       "      <td>0.005010</td>\n",
       "    </tr>\n",
       "    <tr>\n",
       "      <th>major_BUSINESS</th>\n",
       "      <td>0.004332</td>\n",
       "    </tr>\n",
       "    <tr>\n",
       "      <th>jobType_VICE_PRESIDENT</th>\n",
       "      <td>0.004190</td>\n",
       "    </tr>\n",
       "    <tr>\n",
       "      <th>major_LITERATURE</th>\n",
       "      <td>0.002202</td>\n",
       "    </tr>\n",
       "    <tr>\n",
       "      <th>industry_HEALTH</th>\n",
       "      <td>0.002043</td>\n",
       "    </tr>\n",
       "    <tr>\n",
       "      <th>major_MATH</th>\n",
       "      <td>0.001085</td>\n",
       "    </tr>\n",
       "    <tr>\n",
       "      <th>major_BIOLOGY</th>\n",
       "      <td>0.000721</td>\n",
       "    </tr>\n",
       "    <tr>\n",
       "      <th>degree_HIGH_SCHOOL</th>\n",
       "      <td>0.000639</td>\n",
       "    </tr>\n",
       "    <tr>\n",
       "      <th>major_CHEMISTRY</th>\n",
       "      <td>0.000603</td>\n",
       "    </tr>\n",
       "    <tr>\n",
       "      <th>degree_BACHELORS</th>\n",
       "      <td>0.000272</td>\n",
       "    </tr>\n",
       "    <tr>\n",
       "      <th>major_PHYSICS</th>\n",
       "      <td>0.000266</td>\n",
       "    </tr>\n",
       "    <tr>\n",
       "      <th>major_COMPSCI</th>\n",
       "      <td>0.000114</td>\n",
       "    </tr>\n",
       "  </tbody>\n",
       "</table>\n",
       "</div>"
      ],
      "text/plain": [
       "                        Importances\n",
       "Features                           \n",
       "jobType_JANITOR            0.220535\n",
       "yearsExperience            0.186632\n",
       "milesFromMetropolis        0.129582\n",
       "major_NONE                 0.083185\n",
       "jobType_JUNIOR             0.075313\n",
       "jobType_CEO                0.049210\n",
       "jobType_SENIOR             0.041146\n",
       "industry_EDUCATION         0.030356\n",
       "industry_FINANCE           0.026901\n",
       "industry_OIL               0.024797\n",
       "jobType_CTO                0.021021\n",
       "jobType_CFO                0.020521\n",
       "industry_SERVICE           0.016993\n",
       "degree_DOCTORAL            0.015242\n",
       "jobType_MANAGER            0.008755\n",
       "industry_WEB               0.008451\n",
       "industry_AUTO              0.007548\n",
       "degree_NONE                0.006565\n",
       "major_ENGINEERING          0.005770\n",
       "degree_MASTERS             0.005010\n",
       "major_BUSINESS             0.004332\n",
       "jobType_VICE_PRESIDENT     0.004190\n",
       "major_LITERATURE           0.002202\n",
       "industry_HEALTH            0.002043\n",
       "major_MATH                 0.001085\n",
       "major_BIOLOGY              0.000721\n",
       "degree_HIGH_SCHOOL         0.000639\n",
       "major_CHEMISTRY            0.000603\n",
       "degree_BACHELORS           0.000272\n",
       "major_PHYSICS              0.000266\n",
       "major_COMPSCI              0.000114"
      ]
     },
     "execution_count": 94,
     "metadata": {},
     "output_type": "execute_result"
    },
    {
     "data": {
      "image/png": "[encoded data removed]",
      "text/plain": [
       "<Figure size 1440x720 with 1 Axes>"
      ]
     },
     "metadata": {
      "needs_background": "light"
     },
     "output_type": "display_data"
    }
   ],
   "source": [
    "feature_importance(features_train, gb, 25)"
   ]
  },
  {
   "cell_type": "markdown",
   "metadata": {},
   "source": [
    "The feature importance we see in the Gradient Boosting model is similar to that of the Random Forest where job type, years of experience, and location strongly influence salary."
   ]
  },
  {
   "cell_type": "markdown",
   "metadata": {},
   "source": [
    "<a id='best'></a>\n",
    "### 9. Select best model "
   ]
  },
  {
   "cell_type": "markdown",
   "metadata": {
    "collapsed": true
   },
   "source": [
    "Since our goal is to select the model that achieves the lowest MSE, we will select the **Gradient Boosting** model."
   ]
  },
  {
   "cell_type": "markdown",
   "metadata": {},
   "source": [
    "***\n",
    "## Part 4 - DEPLOY"
   ]
  },
  {
   "cell_type": "markdown",
   "metadata": {},
   "source": [
    "<a id='automate'></a>\n",
    "### 10. Automate pipeline\n",
    "\n",
    "We will train the Gradient Boosting model on the entire data set we have and apply it on the unseen data set to predict salary.\n",
    "\n",
    "We will also perform the same feature engineering on our unseen data as we did for our original data set."
   ]
  },
  {
   "cell_type": "code",
   "execution_count": 95,
   "metadata": {},
   "outputs": [
    {
     "name": "stdout",
     "output_type": "stream",
     "text": [
      "      Iter       Train Loss   Remaining Time \n",
      "         1        1351.2830           12.30m\n",
      "         2        1229.8976           12.01m\n",
      "         3        1129.7084           12.18m\n",
      "         4        1045.3752           12.18m\n",
      "         5         974.4283           11.94m\n",
      "         6         914.9446           12.04m\n",
      "         7         862.6779           11.92m\n",
      "         8         814.8460           11.69m\n",
      "         9         772.9795           11.46m\n",
      "        10         737.2014           11.28m\n",
      "        20         519.7989           10.05m\n",
      "        30         434.7553            9.37m\n",
      "        40         397.1956            8.68m\n",
      "        50         379.5828            8.63m\n",
      "        60         370.1793            7.99m\n",
      "        70         365.1219            7.21m\n",
      "        80         361.8448            6.33m\n",
      "        90         359.7451            5.31m\n",
      "       100         358.2108            4.33m\n"
     ]
    },
    {
     "data": {
      "text/plain": [
       "GradientBoostingRegressor(alpha=0.9, ccp_alpha=0.0, criterion='friedman_mse',\n",
       "                          init=None, learning_rate=0.1, loss='ls', max_depth=5,\n",
       "                          max_features=None, max_leaf_nodes=None,\n",
       "                          min_impurity_decrease=0.0, min_impurity_split=None,\n",
       "                          min_samples_leaf=1, min_samples_split=2,\n",
       "                          min_weight_fraction_leaf=0.0, n_estimators=150,\n",
       "                          n_iter_no_change=None, presort='deprecated',\n",
       "                          random_state=None, subsample=1.0, tol=0.0001,\n",
       "                          validation_fraction=0.1, verbose=1, warm_start=False)"
      ]
     },
     "execution_count": 95,
     "metadata": {},
     "output_type": "execute_result"
    }
   ],
   "source": [
    "gb.fit(new_salary_featured,target)"
   ]
  },
  {
   "cell_type": "code",
   "execution_count": 96,
   "metadata": {},
   "outputs": [],
   "source": [
    "# Loading unseen data set\n",
    "test_salary_features = pd.read_csv(\"./data/test_features.csv\")"
   ]
  },
  {
   "cell_type": "code",
   "execution_count": 97,
   "metadata": {},
   "outputs": [],
   "source": [
    "# Engineer features on unseen data set\n",
    "test_engineered = feature_engineer(test_salary_features,dropcols,categorical_var,numerical_var)\n",
    "# Apply model on engineered features\n",
    "predictions = gb.predict(test_engineered)"
   ]
  },
  {
   "cell_type": "code",
   "execution_count": 105,
   "metadata": {},
   "outputs": [],
   "source": [
    "predicted = pd.DataFrame({\"jobId\":test_salary_features[\"jobId\"],\"predicted_salary\":predictions})"
   ]
  },
  {
   "cell_type": "markdown",
   "metadata": {},
   "source": [
    "We will save the salary predictions of job descriptions in a csv file so that finance team can analyze and allocate budget for new hires. The model and feature importances will also be saved so that it can be readily applied on new data."
   ]
  },
  {
   "cell_type": "code",
   "execution_count": 102,
   "metadata": {},
   "outputs": [],
   "source": [
    "# Function to save model\n",
    "def save_results(model, predictions):\n",
    "    '''saves model, model summary, feature importances, and predictions'''\n",
    "    with open('./model/model.txt', 'w') as file:\n",
    "        file.write(str(model))\n",
    "    feature_importances = feature_importance(new_salary_featured,model,25)\n",
    "    feature_importances.to_csv(\"./model/feature_importance.csv\")\n",
    "    predictions.to_csv(\"./data/predictions.csv\",index=False)\n",
    "    return(feature_importances)"
   ]
  },
  {
   "cell_type": "code",
   "execution_count": 107,
   "metadata": {},
   "outputs": [
    {
     "data": {
      "image/png": "[encoded data removed]",
      "text/plain": [
       "<Figure size 1440x720 with 1 Axes>"
      ]
     },
     "metadata": {
      "needs_background": "light"
     },
     "output_type": "display_data"
    }
   ],
   "source": [
    "feature = save_results(gb,predicted)"
   ]
  },
  {
   "cell_type": "markdown",
   "metadata": {},
   "source": [
    "Again, similar pattern of feature importance is seen."
   ]
  },
  {
   "cell_type": "markdown",
   "metadata": {},
   "source": [
    "***\n",
    "<a id='rec'></a>\n",
    "## Part 5 - Actionable recommendations\n",
    "\n",
    "Since job position, years of experience, and location strongly influence salary, a company's finance team might want to consider these factors when allocating budget for new hires. On the other hand, if a company has fixed budget on new hires, they can decide what kind of position to hire for based on how much they have. For instance, if a company has $200k budget, then it can afford to hire a managerial position, instead of a VP.\n",
    "\n",
    "Salary varies according to the following\n",
    "\n",
    "- Job position: CEO > CTO & CFO > VP > Manager > Senior > Junior > Janitor\n",
    "- Salary increases linearly with years of experience\n",
    "- Salary decreases linearly with miles away from city\n",
    "- Oil and finance industries are the highest paying, auto, health, and web are average paying, while service and education are the lowest paying.\n",
    "\n",
    "Based on this information, candidates can also decide the type of industry, location, and position to target to achieve the desired salary.\n",
    "\n",
    "**Caveat**\n",
    "\n",
    "The type of company and economy are important factors to consider when predicting salary but they are not included in the model. A start-up will pay less than a bigger company and salary will be lower during times of economic downturn. While it is important to consider the type of position and industry, we should also keep in mind other variables that are not included in the model."
   ]
  }
 ],
 "metadata": {
  "kernelspec": {
   "display_name": "Python 3",
   "language": "python",
   "name": "python3"
  },
  "language_info": {
   "codemirror_mode": {
    "name": "ipython",
    "version": 3
   },
   "file_extension": ".py",
   "mimetype": "text/x-python",
   "name": "python",
   "nbconvert_exporter": "python",
   "pygments_lexer": "ipython3",
   "version": "3.6.10"
  }
 },
 "nbformat": 4,
 "nbformat_minor": 2
}
